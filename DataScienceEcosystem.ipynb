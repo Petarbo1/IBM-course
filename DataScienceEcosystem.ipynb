{
  "metadata": {
    "kernelspec": {
      "name": "python",
      "display_name": "Pyolite",
      "language": "python"
    },
    "language_info": {
      "codemirror_mode": {
        "name": "python",
        "version": 3
      },
      "file_extension": ".py",
      "mimetype": "text/x-python",
      "name": "python",
      "nbconvert_exporter": "python",
      "pygments_lexer": "ipython3",
      "version": "3.8"
    }
  },
  "nbformat_minor": 4,
  "nbformat": 4,
  "cells": [
    {
      "cell_type": "markdown",
      "source": "<center>\n    <img src=\"https://cf-courses-data.s3.us.cloud-object-storage.appdomain.cloud/IBMDeveloperSkillsNetwork-DS0105EN-SkillsNetwork/labs/Module2/images/SN_web_lightmode.png\" width=\"300\" alt=\"cognitiveclass.ai logo\">\n</center>\n",
      "metadata": {}
    },
    {
      "cell_type": "markdown",
      "source": "# Tools for Data Science - final assignment (Ex2 - 1pt) ",
      "metadata": {
        "tags": []
      }
    },
    {
      "cell_type": "markdown",
      "source": "### Introduction (Ex3 - 1pt)\n\nIn this notebook, Data Science Tools and Ecosystem are summarized.<br>\n\nThis Notebook is a part of the final assignment for the IBM course on Tools for Data Science on Coursera. <br>\nTo sucessfully finish the course, I am following the guidelines on how what this notebook should contain.<br>\n<br>\nI hope to get it right, it should be easy.",
      "metadata": {
        "tags": []
      }
    },
    {
      "cell_type": "markdown",
      "source": "**(Ex10 - 3pt)**<br><br>\n**Objectives:**\n- List popular languages for Data Science\n- List popular libraries for Data Science\n- Convert minutes to hours\n- Do simple arithmetics in jupyter lab",
      "metadata": {}
    },
    {
      "cell_type": "markdown",
      "source": "**(Ex4 - 3pt)**<br><br>\nSome examples of data science languages are:\n1. Python\n2. R\n3. SQL",
      "metadata": {}
    },
    {
      "cell_type": "markdown",
      "source": "**(Ex5 - 3pt)**<br><br>\nSome of the data science libraries in python are:\n1. Pandas - for manipulating dataframes\n2. Numpy\n3. Matplotlib - for visualization\n4. BeautifulSoup - for webscraping\n5. TensorFlow\n6. PyTorch",
      "metadata": {}
    },
    {
      "cell_type": "markdown",
      "source": "**(Ex6 - 3pt)**<br><br>\n\n| DataScience Tools |\n| ------ | \n| Jupyter Lab |  \n| BigML | \n| D3.js | \n| Apache Spark | \n| SAS |\n| IBM SPSS |\n\n...and many more other tools.",
      "metadata": {}
    },
    {
      "cell_type": "markdown",
      "source": "**(Ex7 - 1pt)**<br><br>\nBelow are a few examples of evaluating arithmetic expressions in Python\n\n1 + 1 = 2",
      "metadata": {}
    },
    {
      "cell_type": "code",
      "source": "### (Ex8 - 2pt)\n### This a simple arithmetic expression to mutiply then add integers.\n\na = 2\nb = 3\n\nprint(a + b)\nprint(a * b)\nprint((3*4)+5)",
      "metadata": {
        "trusted": true
      },
      "execution_count": 15,
      "outputs": [
        {
          "name": "stdout",
          "text": "5\n6\n17\n",
          "output_type": "stream"
        }
      ]
    },
    {
      "cell_type": "code",
      "source": "### (Ex9 - 2pt)\n### This will convert 200 minutes to hours by diving by 60\n\nminutes = 200\n\ndef convert(minutes):\n    hours = minutes/60\n    hours_ = minutes//60\n    minutes_ = minutes - hours_*60\n\n    return hours, hours_, minutes_\n\nhours, hours_, minutes_ = convert(minutes)\n\nprint('We are asked to convert {} minutes to hours.'.format(minutes))\nprint('This corresponds to {:.2f} hours, or {} hours and {} minutes'.format(*convert(minutes)))",
      "metadata": {
        "trusted": true
      },
      "execution_count": 17,
      "outputs": [
        {
          "name": "stdout",
          "text": "We are asked to convert 200 minutes to hours.\nThis corresponds to 3.33 hours, or 3 hours and 20 minutes\n",
          "output_type": "stream"
        }
      ]
    },
    {
      "cell_type": "markdown",
      "source": "## Author\nPetar Bojovic<br>\n**(Ex11 - 2pt)**",
      "metadata": {}
    },
    {
      "cell_type": "code",
      "source": "",
      "metadata": {},
      "execution_count": null,
      "outputs": []
    }
  ]
}